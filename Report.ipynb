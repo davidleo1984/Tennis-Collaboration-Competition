{
 "cells": [
  {
   "cell_type": "markdown",
   "metadata": {},
   "source": [
    "# Collaboration and Competition\n",
    "\n",
    "---\n",
    "\n",
    "You are welcome to use this coding environment to train your agent for the project.  Follow the instructions below to get started!\n",
    "\n",
    "### 1. Start the Environment\n",
    "\n",
    "Run the next code cell to install a few packages.  This line will take a few minutes to run!"
   ]
  },
  {
   "cell_type": "code",
   "execution_count": 3,
   "metadata": {},
   "outputs": [
    {
     "name": "stdout",
     "output_type": "stream",
     "text": [
      "\u001b[31mtensorflow 1.7.1 has requirement numpy>=1.13.3, but you'll have numpy 1.12.1 which is incompatible.\u001b[0m\r\n",
      "\u001b[31mipython 6.5.0 has requirement prompt-toolkit<2.0.0,>=1.0.15, but you'll have prompt-toolkit 3.0.8 which is incompatible.\u001b[0m\r\n"
     ]
    }
   ],
   "source": [
    "!pip -q install ./python"
   ]
  },
  {
   "cell_type": "markdown",
   "metadata": {},
   "source": [
    "The environment is already saved in the Workspace and can be accessed at the file path provided below. "
   ]
  },
  {
   "cell_type": "code",
   "execution_count": 4,
   "metadata": {},
   "outputs": [
    {
     "name": "stderr",
     "output_type": "stream",
     "text": [
      "INFO:unityagents:\n",
      "'Academy' started successfully!\n",
      "Unity Academy name: Academy\n",
      "        Number of Brains: 1\n",
      "        Number of External Brains : 1\n",
      "        Lesson number : 0\n",
      "        Reset Parameters :\n",
      "\t\t\n",
      "Unity brain name: TennisBrain\n",
      "        Number of Visual Observations (per agent): 0\n",
      "        Vector Observation space type: continuous\n",
      "        Vector Observation space size (per agent): 8\n",
      "        Number of stacked Vector Observation: 3\n",
      "        Vector Action space type: continuous\n",
      "        Vector Action space size (per agent): 2\n",
      "        Vector Action descriptions: , \n"
     ]
    }
   ],
   "source": [
    "from unityagents import UnityEnvironment\n",
    "import numpy as np\n",
    "\n",
    "env = UnityEnvironment(file_name=\"/data/Tennis_Linux_NoVis/Tennis\")"
   ]
  },
  {
   "cell_type": "markdown",
   "metadata": {},
   "source": [
    "Environments contain **_brains_** which are responsible for deciding the actions of their associated agents. Here we check for the first brain available, and set it as the default brain we will be controlling from Python."
   ]
  },
  {
   "cell_type": "code",
   "execution_count": 5,
   "metadata": {},
   "outputs": [],
   "source": [
    "# get the default brain\n",
    "brain_name = env.brain_names[0]\n",
    "brain = env.brains[brain_name]"
   ]
  },
  {
   "cell_type": "markdown",
   "metadata": {},
   "source": [
    "### 2. Examine the State and Action Spaces\n",
    "\n",
    "Run the code cell below to print some information about the environment."
   ]
  },
  {
   "cell_type": "code",
   "execution_count": 6,
   "metadata": {},
   "outputs": [
    {
     "name": "stdout",
     "output_type": "stream",
     "text": [
      "Number of agents: 2\n",
      "Size of each action: 2\n",
      "There are 2 agents. Each observes a state with length: 24\n",
      "The state for the first agent looks like: [ 0.          0.          0.          0.          0.          0.          0.\n",
      "  0.          0.          0.          0.          0.          0.          0.\n",
      "  0.          0.         -6.65278625 -1.5        -0.          0.\n",
      "  6.83172083  6.         -0.          0.        ]\n"
     ]
    }
   ],
   "source": [
    "# reset the environment\n",
    "env_info = env.reset(train_mode=True)[brain_name]\n",
    "\n",
    "# number of agents \n",
    "num_agents = len(env_info.agents)\n",
    "print('Number of agents:', num_agents)\n",
    "\n",
    "# size of each action\n",
    "action_size = brain.vector_action_space_size\n",
    "print('Size of each action:', action_size)\n",
    "\n",
    "# examine the state space \n",
    "states = env_info.vector_observations\n",
    "state_size = states.shape[1]\n",
    "print('There are {} agents. Each observes a state with length: {}'.format(states.shape[0], state_size))\n",
    "print('The state for the first agent looks like:', states[0])"
   ]
  },
  {
   "cell_type": "markdown",
   "metadata": {},
   "source": [
    "### 3. Take Random Actions in the Environment\n",
    "\n",
    "In the next code cell, you will learn how to use the Python API to control the agent and receive feedback from the environment.\n",
    "\n",
    "Note that **in this coding environment, you will not be able to watch the agents while they are training**, and you should set `train_mode=True` to restart the environment."
   ]
  },
  {
   "cell_type": "code",
   "execution_count": 7,
   "metadata": {
    "scrolled": false
   },
   "outputs": [
    {
     "name": "stdout",
     "output_type": "stream",
     "text": [
      "Total score (averaged over agents) this episode: 0.0\n",
      "Total score (averaged over agents) this episode: 0.0\n",
      "Total score (averaged over agents) this episode: 0.0\n",
      "Total score (averaged over agents) this episode: 0.0\n",
      "Total score (averaged over agents) this episode: 0.0\n"
     ]
    }
   ],
   "source": [
    "from collections import namedtuple, deque\n",
    "\n",
    "for i in range(5):                                         # play game for 5 episodes\n",
    "    env_info = env.reset(train_mode=False)[brain_name]     # reset the environment    \n",
    "    states = env_info.vector_observations                  # get the current state (for each agent)\n",
    "    scores = np.zeros(num_agents)                          # initialize the score (for each agent)\n",
    "    while True:\n",
    "        actions = np.random.randn(num_agents, action_size) # select an action (for each agent)\n",
    "        actions = np.clip(actions, -1, 1)                  # all actions between -1 and 1\n",
    "        env_info = env.step(actions)[brain_name]           # send all actions to tne environment\n",
    "        next_states = env_info.vector_observations         # get next state (for each agent)\n",
    "        rewards = env_info.rewards                         # get reward (for each agent)\n",
    "        dones = env_info.local_done                        # see if episode finished\n",
    "        scores += env_info.rewards                         # update the score (for each agent)\n",
    "        states = next_states                               # roll over states to next time step\n",
    "        if np.any(dones):                                  # exit loop if episode finished\n",
    "            break\n",
    "    print('Total score (averaged over agents) this episode: {}'.format(np.max(scores)))"
   ]
  },
  {
   "cell_type": "markdown",
   "metadata": {},
   "source": [
    "### 4. Inplement the MADDPG algorithm\n",
    "\n",
    "Multi-Agents Deep Deterministic Policy Gradient algorithm (MADDPG) is an extension of DDPG in a multi-agent environment. In the DDPG algorithm, two kinds of deep neural networks (Actor and Critic) are built for each agent. The Actor is a policy function that will be trained to map the agent's observations to its optimal action. Not like the value-based methods whose output are the probabilities in the action space, this policy-based method will directly output the expected actions. The Critic networks are Q-value functions that map the states and actions to the expected discounted return of an episode. While implementing the DDPG algorithm, a target network is built for each Actor and Critic, with the same architecture respectively. \n",
    "During training, \n",
    "\n",
    "- the agent gets an observation from the environment, then use the Actor to map from this observation to an action\n",
    "- the action added with a noised is sent to the environment for the next observation, and the reward.\n",
    "- the experience (observation, action, reward, next_observation) will be stored in a memory pool (replay buffer) \n",
    "- the next_observation become the observation of the next loop\n",
    "- a batch of experiences is a sample from the replay buffer\n",
    "- critic loss is calculated and the Critic optimizer performs a step of backpropagation\n",
    "- J value (estimated expectation of the return with current observations and actions) is calculated, and the Actor optimizer performs a backpropagation step.\n",
    "- soft update the target networks of Actor and Critic\n",
    "- move to the next loop until the episode terminates.\n",
    "\n",
    "\n",
    "In a Multi-Agent environment, the agents share their experiences during training, the critic network of each agent receives all the observations and actions in order to understand what happens to all the agents. the pseudo code from the [paper](https://arxiv.org/pdf/1706.02275.pdf) is shown below: \n",
    "\n",
    "![psedu_code](images/MADDPG_algorithm.PNG)"
   ]
  },
  {
   "cell_type": "markdown",
   "metadata": {},
   "source": [
    "#### Architecture of the neural networks:\n",
    "\n",
    "observation size (state_size): 24\n",
    "\n",
    "numer of agents (num_agents): 2\n",
    "\n",
    "**Actor (local / target):**\n",
    "\n",
    "- layer 1: Linear(24, 256) with activation relu() \n",
    "- layer 2: Linear(256, 128) with activation relu()\n",
    "- layer 3: Linear(128, 2) with activation tanh()\n",
    "\n",
    "**Critic (local / target):**\n",
    "\n",
    "- layer 1: Linear(24\\*2, 256) with activation relu() \n",
    "- layer 2: Linear(256 + 2\\*2, 128) with activation relu()\n",
    "- layer 3: Linear(128, 1), no activation"
   ]
  },
  {
   "cell_type": "code",
   "execution_count": 8,
   "metadata": {
    "scrolled": false
   },
   "outputs": [],
   "source": [
    "import torch\n",
    "import torch.nn as nn\n",
    "import torch.nn.functional as F\n",
    "import numpy as np\n",
    "import copy\n",
    "\n",
    "from collections import namedtuple, deque\n",
    "import random\n",
    "\n",
    "class Actor(nn.Module):\n",
    "    def __init__(self, state_size, action_size, hiddens=(256,128)):\n",
    "        super(Actor, self).__init__()\n",
    "        self.fc1 = nn.Linear(state_size, hiddens[0])\n",
    "        self.fc2 = nn.Linear(hiddens[0], hiddens[1])\n",
    "        self.fc3 = nn.Linear(hiddens[1], action_size)\n",
    "        # initialize the weights of the last fc layer\n",
    "        self.fc3.weight.data.uniform_(-3e-3, 3e-3)\n",
    "\n",
    "    def forward(self, x):\n",
    "        x = F.relu(self.fc1(x))\n",
    "        x = F.relu(self.fc2(x))\n",
    "        x = torch.tanh(self.fc3(x))\n",
    "        return x\n",
    "\n",
    "class Critic(nn.Module):\n",
    "    def __init__(self, state_size, action_size, hiddens=(256,128)):\n",
    "        super(Critic, self).__init__()\n",
    "        self.fc1 = nn.Linear(state_size, hiddens[0])\n",
    "        self.fc2 = nn.Linear(hiddens[0] + action_size, hiddens[1])\n",
    "        self.fc3 = nn.Linear(hiddens[1], 1)\n",
    "        self.fc3.weight.data.uniform_(-3e-3, 3e-3)\n",
    "\n",
    "    def forward(self, states, actions):\n",
    "        hidden_0_out = F.relu(self.fc1(states))\n",
    "        # actions are input in the second layer of the Critic network\n",
    "        hidden_1_in = torch.cat((hidden_0_out, actions), dim=1)\n",
    "        hidden_1_out = F.relu(self.fc2(hidden_1_in))\n",
    "        return self.fc3(hidden_1_out)\n",
    "\n",
    "class OUNoise:\n",
    "    def __init__(self, size, mu=0.0, theta=0.2, sigma=0.1):\n",
    "        self.size = size\n",
    "        self.mu = mu * np.ones(size)\n",
    "        self.theta = theta\n",
    "        self.sigma = sigma\n",
    "        self.reset()\n",
    "\n",
    "    def reset(self):\n",
    "        self.state = copy.copy(self.mu)\n",
    "\n",
    "    def sample(self):\n",
    "        s = self.state\n",
    "        ds = self.theta * (self.mu - s) + self.sigma * np.random.standard_normal(self.size)\n",
    "        self.state = s + ds\n",
    "        return self.state\n",
    "\n",
    "class ReplayBuffer:\n",
    "    def __init__(self, buffer_size, seed):\n",
    "        self.experience = namedtuple('Experience',field_names=('states', 'actions', 'rewards', 'next_states', 'dones'))\n",
    "        self.memory = deque(maxlen=buffer_size)\n",
    "        self.seed = random.seed(seed)\n",
    "\n",
    "    def add(self, state, action, reward, next_state, done):\n",
    "        self.memory.append(self.experience(state, action, reward, next_state, done))\n",
    "\n",
    "    def sample(self, device, batch_size):\n",
    "        memory_sample = random.sample(self.memory, batch_size)\n",
    "        states = torch.from_numpy(np.stack([experience.states for experience in memory_sample])).float().to(device)\n",
    "        actions = torch.from_numpy(np.stack([experience.actions for experience in memory_sample])).float().to(device)\n",
    "        rewards = torch.from_numpy(np.stack([experience.rewards for experience in memory_sample])).float().to(device)\n",
    "        next_states = torch.from_numpy(np.stack([experience.next_states for experience in memory_sample])).float().to(device)\n",
    "        dones = torch.from_numpy(np.stack([experience.dones for experience in memory_sample]).astype(np.uint8)).float().to(device)\n",
    "        return (states, actions, rewards, next_states, dones)\n",
    "\n",
    "    def __len__(self):\n",
    "        return len(self.memory)\n",
    "    \n",
    "class DDPG_Agent:\n",
    "    # initialize the DDPG_agent\n",
    "    def __init__(self, device, num_agents, state_size, action_size, lr_actor, lr_critic):\n",
    "        self.device = device\n",
    "        # actor and critic (local/target) networks and optimizers\n",
    "        self.actor_local = Actor(state_size, action_size).to(device)\n",
    "        self.actor_target = Actor(state_size, action_size).to(device)\n",
    "        self.actor_optimizer = torch.optim.Adam(self.actor_local.parameters(), lr=lr_actor)\n",
    "        # input sizes of critic network are state_size * num_agents and action_size * num_agents \n",
    "        self.critic_local = Critic(state_size * num_agents, action_size * num_agents).to(device)\n",
    "        self.critic_target = Critic(state_size * num_agents, action_size * num_agents).to(device)\n",
    "        self.critic_optimizer = torch.optim.Adam(self.critic_local.parameters(), lr=lr_critic)\n",
    "\n",
    "class MADDPG:\n",
    "    # initialize the MADDPG\n",
    "    def __init__(self, device, num_agents, state_size, action_size, lr_actor, lr_critic, buffer_size, seed, batch_size, gamma, tau):\n",
    "        self.device = device\n",
    "        self.num_agents = num_agents\n",
    "        self.agents = [DDPG_Agent(device, num_agents, state_size, action_size, lr_actor, lr_critic) for i in range(self.num_agents)]\n",
    "        self.replaybuffer = ReplayBuffer(buffer_size, seed)\n",
    "        self.noise = OUNoise(action_size)\n",
    "        self.batch_size = batch_size\n",
    "        self.gamma = gamma\n",
    "        self.tau = tau    \n",
    "        \n",
    "    def reset_noise(self):\n",
    "        self.noise.reset()\n",
    "    \n",
    "    def act(self, states, add_noise=True):\n",
    "        states = torch.from_numpy(states).float().to(self.device)\n",
    "\n",
    "        noise = np.zeros(self.noise.size)\n",
    "        if add_noise:\n",
    "            noise = self.noise.sample()\n",
    "        \n",
    "        actions = []  \n",
    "        for i in range(self.num_agents):\n",
    "            action = self.agents[i].actor_local(states[i]).cpu().data.numpy() + noise\n",
    "            action = np.clip(action, -1.0, 1.0)\n",
    "            actions.append(action)\n",
    "        return np.array(actions)        \n",
    "        \n",
    "    def store(self, states, actions, rewards, next_states, dones):\n",
    "        self.replaybuffer.add(states, actions, rewards, next_states, dones)\n",
    "\n",
    "    def learn(self):\n",
    "        for i , agent in enumerate(self.agents):\n",
    "            states, actions, rewards, next_states, dones = self.replaybuffer.sample(self.device, self.batch_size)        \n",
    "            # calculate critic_loss and make a step of optimizing the parameters of critic_local\n",
    "            states_combined = states.view(self.batch_size, -1)\n",
    "            actions_combined = actions.view(self.batch_size, -1)\n",
    "            next_states_combined = next_states.view(self.batch_size, -1)\n",
    "            next_actions = [self.agents[i].actor_target(next_states[:,i]) for i in range(self.num_agents)]\n",
    "            next_actions_combined = torch.stack(next_actions, dim=1).view(self.batch_size, -1)\n",
    "            q_next = agent.critic_target(next_states_combined, next_actions_combined)\n",
    "            q_target = rewards[:,i].unsqueeze(1) + (1 - dones[:,i].unsqueeze(1)) * self.gamma * q_next\n",
    "            q = agent.critic_local(states_combined, actions_combined)\n",
    "            critic_loss = torch.nn.functional.mse_loss(q, q_target)\n",
    "            agent.critic_optimizer.zero_grad()\n",
    "            critic_loss.backward()\n",
    "            agent.critic_optimizer.step()\n",
    "            # calculate J and make a step of optimizing the parameters of actor_local\n",
    "            agent.actor_optimizer.zero_grad()\n",
    "            actions_pred = [self.agents[i].actor_local(states[:,i]) for i in range(self.num_agents)]\n",
    "            actions_pred_combined = torch.stack(actions_pred, dim=1).view(self.batch_size, -1)\n",
    "            J = -agent.critic_local(states_combined, actions_pred_combined).mean()\n",
    "            J.backward()\n",
    "            agent.actor_optimizer.step()\n",
    "\n",
    "            # soft_update the actor_target and critic_target network\n",
    "            self.soft_update(agent.actor_local.parameters(), agent.actor_target.parameters())\n",
    "            self.soft_update(agent.critic_local.parameters(), agent.critic_target.parameters())        \n",
    "\n",
    "    def soft_update(self, local_parameters, target_parameters):\n",
    "        for local_param, target_param in zip(local_parameters, target_parameters):\n",
    "            target_param.data.copy_(target_param.data * (1.0 - self.tau) + local_param.data * self.tau)\n"
   ]
  },
  {
   "cell_type": "markdown",
   "metadata": {},
   "source": [
    "#### Perform the Training"
   ]
  },
  {
   "cell_type": "code",
   "execution_count": 11,
   "metadata": {
    "scrolled": true
   },
   "outputs": [
    {
     "name": "stdout",
     "output_type": "stream",
     "text": [
      "Environment solved at episode: 4060! Average Score = 0.500600.\n"
     ]
    },
    {
     "data": {
      "image/png": "[encoded data removed]",
      "text/plain": [
       "<matplotlib.figure.Figure at 0x7efc3be8be10>"
      ]
     },
     "metadata": {
      "needs_background": "light"
     },
     "output_type": "display_data"
    }
   ],
   "source": [
    "device = torch.device('cuda:0' if torch.cuda.is_available else 'cpu')\n",
    "\n",
    "# Hyper-parameters\n",
    "lr_actor = 1e-4\n",
    "lr_critic = 5e-4\n",
    "buffer_size = int(1e+5)\n",
    "seed = 123\n",
    "batch_size = 256\n",
    "gamma = 0.99\n",
    "tau = 1e-3\n",
    "\n",
    "# An instance of MADDPG \n",
    "maddpg = MADDPG(device, num_agents, state_size, action_size, lr_actor, lr_critic, buffer_size, seed, batch_size, gamma, tau)\n",
    "\n",
    "num_episode = 5000\n",
    "\n",
    "scores_all = []\n",
    "scores_window = deque(maxlen=100)\n",
    "scores_average = []\n",
    "\n",
    "from workspace_utils import active_session\n",
    "\n",
    "with active_session():\n",
    "    for episode_i in range(num_episode):\n",
    "        maddpg.reset_noise()\n",
    "        brain_info = env.reset(train_mode=True)[brain_name]\n",
    "        states = brain_info.vector_observations\n",
    "        score_episode = np.zeros(len(states))\n",
    "        while True:\n",
    "            actions = maddpg.act(states, add_noise=True)\n",
    "            brain_info = env.step(actions)[brain_name]\n",
    "            next_states = brain_info.vector_observations\n",
    "            rewards = brain_info.rewards\n",
    "            dones = brain_info.local_done\n",
    "            score_episode += rewards\n",
    "            maddpg.store(states, actions, rewards, next_states, dones)\n",
    "            if len(maddpg.replaybuffer) > batch_size:\n",
    "                maddpg.learn()\n",
    "            if np.any(dones):\n",
    "                break\n",
    "            states = next_states\n",
    "\n",
    "        scores_all.append(np.max(score_episode))\n",
    "        scores_window.append(np.max(score_episode))\n",
    "\n",
    "        if episode_i < 99:\n",
    "            print(\"\\rEpisode: {}\\tScore: {:4f}\".format(episode_i, scores_all[episode_i]), end=\"\")\n",
    "        else:\n",
    "            scores_average.append(np.mean(scores_window))\n",
    "            print(\"\\rEpisode: {}\\tScore: {:4f}\\tAverage Score: {:4f}\".format(episode_i, scores_all[episode_i], scores_average[episode_i - 99]), end=\"\")\n",
    "            if scores_average[episode_i - 99] > 0.5:\n",
    "                print(\"\\rEnvironment solved at episode: {}! Average Score = {:4f}.\".format(episode_i, scores_average[episode_i - 99]))\n",
    "                break\n",
    "\n",
    "for i in range(num_agents):\n",
    "    torch.save(maddpg.agents[i].actor_local.state_dict(), 'agent_{}_actor_checkpoint.pth'.format(i))\n",
    "    torch.save(maddpg.agents[i].critic_local.state_dict(), 'agent_{}_critic_checkpoint.pth'.format(i))\n",
    "\n",
    "import matplotlib.pyplot as plt\n",
    "%matplotlib inline\n",
    "fig = plt.figure()\n",
    "plt.plot(np.arange(len(scores_all)), scores_all, label=\"score\")\n",
    "plt.plot(np.arange(len(scores_average))+99, scores_average, label=\"average_score\")\n",
    "plt.legend()\n",
    "plt.xlabel(\"Episode #\")\n",
    "plt.ylabel(\"Score\")\n",
    "plt.show()"
   ]
  },
  {
   "cell_type": "code",
   "execution_count": 21,
   "metadata": {},
   "outputs": [],
   "source": [
    "env.close()"
   ]
  },
  {
   "cell_type": "markdown",
   "metadata": {},
   "source": [
    "### 5. Future ideas\n",
    "\n",
    "Even the environment is solved, the training are not stable. With the same hyper parameters, sometimes it failed, sometimes it solved the problem. It is hard to tune the hyper parameters. The latest ones are inspired by [vivekthota16](https://github.com/vivekthota16/Project-Collaboration-and-Competition-Udacity-Deep-Reinforcement-Learning), especially the weight initialization of the last layers of the Actor and Critic. So the next work would be to try more hyperparameters to better understand the driving parameters for success.\n",
    "Also, other technics like Prioritized Experience Replay is an option to try."
   ]
  }
 ],
 "metadata": {
  "kernelspec": {
   "display_name": "Python 3",
   "language": "python",
   "name": "python3"
  },
  "language_info": {
   "codemirror_mode": {
    "name": "ipython",
    "version": 3
   },
   "file_extension": ".py",
   "mimetype": "text/x-python",
   "name": "python",
   "nbconvert_exporter": "python",
   "pygments_lexer": "ipython3",
   "version": "3.6.3"
  }
 },
 "nbformat": 4,
 "nbformat_minor": 2
}
